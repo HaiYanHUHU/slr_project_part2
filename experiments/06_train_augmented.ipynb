{
 "cells": [
  {
   "cell_type": "code",
   "execution_count": 9,
   "metadata": {},
   "outputs": [],
   "source": [
    "import sys, os\n",
    "sys.path.append(os.path.abspath(\"..\"))  \n",
    "\n",
    "import torch\n",
    "import torch.nn as nn\n",
    "import torch.optim as optim\n",
    "from torch.utils.data import DataLoader\n",
    "from tqdm import tqdm"
   ]
  },
  {
   "cell_type": "code",
   "execution_count": 10,
   "metadata": {},
   "outputs": [],
   "source": [
    "from models.mobilenetv3 import MobileNetV3Extractor\n",
    "from models.lstm_attention import BiLSTMWithAttention\n",
    "from preprocessing.dataset import SignLanguageDataset"
   ]
  },
  {
   "cell_type": "code",
   "execution_count": 11,
   "metadata": {},
   "outputs": [],
   "source": [
    "import albumentations as A\n",
    "from albumentations.pytorch import ToTensorV2\n",
    "\n",
    "train_transform = A.Compose([\n",
    "    # resize to the standard input size\n",
    "    A.Resize(224, 224),  \n",
    "    # A.RandomCrop(200, 200),\n",
    "    A.HorizontalFlip(p=0.5),\n",
    "    A.ColorJitter(brightness=0.2, contrast=0.2),\n",
    "    #A.Cutout(num_holes=2, max_h_size=40, max_w_size=40, fill_value=0),\n",
    "     # resize it back to 224 to prevent inconsistent dimensions after enhancement\n",
    "    A.Resize(224, 224), \n",
    "    A.Normalize(mean=(0.5, 0.5, 0.5), std=(0.5, 0.5, 0.5)),\n",
    "    ToTensorV2()\n",
    "])"
   ]
  },
  {
   "cell_type": "code",
   "execution_count": 12,
   "metadata": {},
   "outputs": [
    {
     "name": "stdout",
     "output_type": "stream",
     "text": [
      "\n",
      "[DEBUG] First 20 samples loaded:\n",
      "Sample 0: class=write, label=292\n",
      "    Frame count: 20 | First frame: ../data/frames/train/write/66815/frame_000.jpg\n",
      "Sample 1: class=write, label=292\n",
      "    Frame count: 20 | First frame: ../data/frames/train/write/70261/frame_000.jpg\n",
      "Sample 2: class=write, label=292\n",
      "    Frame count: 20 | First frame: ../data/frames/train/write/64065/frame_000.jpg\n",
      "Sample 3: class=write, label=292\n",
      "    Frame count: 20 | First frame: ../data/frames/train/write/64067/frame_000.jpg\n",
      "Sample 4: class=write, label=292\n",
      "    Frame count: 20 | First frame: ../data/frames/train/write/64058/frame_000.jpg\n",
      "Sample 5: class=write, label=292\n",
      "    Frame count: 20 | First frame: ../data/frames/train/write/64060/frame_000.jpg\n",
      "Sample 6: class=write, label=292\n",
      "    Frame count: 20 | First frame: ../data/frames/train/write/64056/frame_000.jpg\n",
      "Sample 7: class=write, label=292\n",
      "    Frame count: 20 | First frame: ../data/frames/train/write/64057/frame_000.jpg\n",
      "Sample 8: class=write, label=292\n",
      "    Frame count: 20 | First frame: ../data/frames/train/write/64068/frame_000.jpg\n",
      "Sample 9: class=write, label=292\n",
      "    Frame count: 20 | First frame: ../data/frames/train/write/64066/frame_000.jpg\n",
      "Sample 10: class=write, label=292\n",
      "    Frame count: 20 | First frame: ../data/frames/train/write/64059/frame_000.jpg\n",
      "Sample 11: class=your, label=299\n",
      "    Frame count: 20 | First frame: ../data/frames/train/your/64438/frame_000.jpg\n",
      "Sample 12: class=your, label=299\n",
      "    Frame count: 20 | First frame: ../data/frames/train/your/64436/frame_000.jpg\n",
      "Sample 13: class=your, label=299\n",
      "    Frame count: 20 | First frame: ../data/frames/train/your/64430/frame_000.jpg\n",
      "Sample 14: class=your, label=299\n",
      "    Frame count: 20 | First frame: ../data/frames/train/your/64437/frame_000.jpg\n",
      "Sample 15: class=your, label=299\n",
      "    Frame count: 20 | First frame: ../data/frames/train/your/64435/frame_000.jpg\n",
      "Sample 16: class=your, label=299\n",
      "    Frame count: 20 | First frame: ../data/frames/train/your/64433/frame_000.jpg\n",
      "Sample 17: class=your, label=299\n",
      "    Frame count: 20 | First frame: ../data/frames/train/your/64427/frame_000.jpg\n",
      "Sample 18: class=your, label=299\n",
      "    Frame count: 20 | First frame: ../data/frames/train/your/64429/frame_000.jpg\n",
      "Sample 19: class=apple, label=7\n",
      "    Frame count: 20 | First frame: ../data/frames/train/apple/68003/frame_000.jpg\n"
     ]
    }
   ],
   "source": [
    "train_root = \"../data/frames/train\"\n",
    "#class_names = sorted(os.listdir(train_root))\n",
    "class_names = sorted([\n",
    "    d for d in os.listdir(train_root)\n",
    "    if os.path.isdir(os.path.join(train_root, d)) and not d.startswith(\".\")\n",
    "]) \n",
    "\n",
    "label_map = {name: idx for idx, name in enumerate(class_names)}\n",
    "\n",
    "train_dataset = SignLanguageDataset(\n",
    "    root_dir=train_root,\n",
    "    label_map=label_map,\n",
    "    num_frames=20,\n",
    "    split=\"train\",\n",
    "    transform=train_transform\n",
    ")\n",
    "\n",
    "train_loader = DataLoader(train_dataset, batch_size=4, shuffle=True, num_workers=2)"
   ]
  },
  {
   "cell_type": "code",
   "execution_count": 13,
   "metadata": {},
   "outputs": [],
   "source": [
    "class FullSLRModel(nn.Module):\n",
    "    def __init__(self, num_classes):\n",
    "        super().__init__()\n",
    "        self.feature_extractor = MobileNetV3Extractor()\n",
    "        self.temporal_model = BiLSTMWithAttention(\n",
    "            input_dim=960, hidden_dim=256, num_classes=num_classes\n",
    "        )\n",
    "\n",
    "    def forward(self, x):  # x: [B, T, C, H, W]\n",
    "        features = self.feature_extractor(x)          # [B, T, 960]\n",
    "        logits, _ = self.temporal_model(features)     # [B, num_classes]\n",
    "        return logits"
   ]
  },
  {
   "cell_type": "code",
   "execution_count": 14,
   "metadata": {},
   "outputs": [],
   "source": [
    "device = torch.device(\"cuda\" if torch.cuda.is_available() else \"cpu\")\n",
    "model = FullSLRModel(num_classes=len(label_map)).to(device)\n",
    "\n",
    "# Label smoothing is helpful for generalization and reduces overfitting\n",
    "criterion = nn.CrossEntropyLoss(label_smoothing=0.1)\n",
    "optimizer = optim.Adam(model.parameters(), lr=1e-4)"
   ]
  },
  {
   "cell_type": "code",
   "execution_count": null,
   "metadata": {},
   "outputs": [
    {
     "name": "stderr",
     "output_type": "stream",
     "text": [
      " 27%|██▋       | 167/622 [11:56:06<5:04:03, 40.10s/it]   "
     ]
    }
   ],
   "source": [
    "num_epochs = 3\n",
    "\n",
    "for epoch in range(num_epochs):\n",
    "    model.train()\n",
    "    total_loss = 0.0\n",
    "    correct = 0\n",
    "    total = 0\n",
    "\n",
    "    for videos, labels in tqdm(train_loader):\n",
    "        # videos = videos.permute(0, 2, 1, 3, 4)  # [B, C, T, H, W] → [B, T, C, H, W]\n",
    "        videos, labels = videos.to(device), labels.to(device)\n",
    "\n",
    "        outputs = model(videos)\n",
    "        loss = criterion(outputs, labels)\n",
    "\n",
    "        optimizer.zero_grad()\n",
    "        loss.backward()\n",
    "        optimizer.step()\n",
    "\n",
    "        total_loss += loss.item()\n",
    "        _, predicted = outputs.max(1)\n",
    "        total += labels.size(0)\n",
    "        correct += (predicted == labels).sum().item()\n",
    "\n",
    "    epoch_loss = total_loss / len(train_loader)\n",
    "    epoch_acc = 100. * correct / total\n",
    "    print(f\"[Epoch {epoch+1}/{num_epochs}] Loss: {epoch_loss:.4f} | Acc: {epoch_acc:.2f}%\")"
   ]
  },
  {
   "cell_type": "code",
   "execution_count": 8,
   "metadata": {},
   "outputs": [],
   "source": [
    "os.makedirs(\"../checkpoints\", exist_ok=True)\n",
    "torch.save(model.state_dict(), \"../checkpoints/mobilenetv3_lstm_aug_smooth.pth\")"
   ]
  }
 ],
 "metadata": {
  "kernelspec": {
   "display_name": "slr-env",
   "language": "python",
   "name": "python3"
  },
  "language_info": {
   "codemirror_mode": {
    "name": "ipython",
    "version": 3
   },
   "file_extension": ".py",
   "mimetype": "text/x-python",
   "name": "python",
   "nbconvert_exporter": "python",
   "pygments_lexer": "ipython3",
   "version": "3.9.23"
  }
 },
 "nbformat": 4,
 "nbformat_minor": 2
}
