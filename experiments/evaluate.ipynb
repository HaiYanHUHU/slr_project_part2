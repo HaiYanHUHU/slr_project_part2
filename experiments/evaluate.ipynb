{
 "cells": [
  {
   "cell_type": "code",
   "execution_count": 16,
   "metadata": {},
   "outputs": [],
   "source": [
    "import sys, os\n",
    "sys.path.append(os.path.abspath(\"..\"))\n",
    "\n",
    "import torch\n",
    "import torch.nn as nn\n",
    "from torch.utils.data import DataLoader\n",
    "from sklearn.metrics import classification_report, confusion_matrix, ConfusionMatrixDisplay\n",
    "import matplotlib.pyplot as plt\n",
    "import numpy as np\n",
    "from tqdm import tqdm"
   ]
  },
  {
   "cell_type": "code",
   "execution_count": 17,
   "metadata": {},
   "outputs": [],
   "source": [
    "from models.mobilenetv3 import MobileNetV3Extractor\n",
    "from models.lstm_attention import BiLSTMWithAttention\n",
    "from preprocessing.dataset import SignLanguageDataset"
   ]
  },
  {
   "cell_type": "code",
   "execution_count": 18,
   "metadata": {},
   "outputs": [],
   "source": [
    "\n",
    "model_path = \"../checkpoints/mobilenetv3_lstm_aug_smooth.pth\"\n",
    "\n",
    "num_frames = 20\n",
    "batch_size = 2\n",
    "device = torch.device(\"cuda\" if torch.cuda.is_available() else \"cpu\")"
   ]
  },
  {
   "cell_type": "code",
   "execution_count": 19,
   "metadata": {},
   "outputs": [
    {
     "name": "stdout",
     "output_type": "stream",
     "text": [
      "\n",
      "[DEBUG] First 20 samples loaded:\n",
      "Sample 0: class=write, label=284\n",
      "    Frame count: 20 | First frame: ../data/frames/validation/write/64061/frame_000.jpg\n",
      "Sample 1: class=your, label=291\n",
      "    Frame count: 20 | First frame: ../data/frames/validation/your/64423/frame_000.jpg\n",
      "Sample 2: class=your, label=291\n",
      "    Frame count: 20 | First frame: ../data/frames/validation/your/64434/frame_000.jpg\n",
      "Sample 3: class=apple, label=7\n",
      "    Frame count: 20 | First frame: ../data/frames/validation/apple/69213/frame_000.jpg\n",
      "Sample 4: class=apple, label=7\n",
      "    Frame count: 20 | First frame: ../data/frames/validation/apple/02999/frame_000.jpg\n",
      "Sample 5: class=apple, label=7\n",
      "    Frame count: 20 | First frame: ../data/frames/validation/apple/65086/frame_000.jpg\n",
      "Sample 6: class=accident, label=1\n",
      "    Frame count: 20 | First frame: ../data/frames/validation/accident/00626/frame_000.jpg\n",
      "Sample 7: class=accident, label=1\n",
      "    Frame count: 20 | First frame: ../data/frames/validation/accident/00627/frame_000.jpg\n",
      "Sample 8: class=inform, label=153\n",
      "    Frame count: 20 | First frame: ../data/frames/validation/inform/29646/frame_000.jpg\n",
      "Sample 9: class=inform, label=153\n",
      "    Frame count: 20 | First frame: ../data/frames/validation/inform/29656/frame_000.jpg\n",
      "Sample 10: class=right, label=224\n",
      "    Frame count: 20 | First frame: ../data/frames/validation/right/48124/frame_000.jpg\n",
      "Sample 11: class=right, label=224\n",
      "    Frame count: 20 | First frame: ../data/frames/validation/right/48108/frame_000.jpg\n",
      "Sample 12: class=hear, label=139\n",
      "    Frame count: 20 | First frame: ../data/frames/validation/hear/26945/frame_000.jpg\n",
      "Sample 13: class=hear, label=139\n",
      "    Frame count: 20 | First frame: ../data/frames/validation/hear/26942/frame_000.jpg\n",
      "Sample 14: class=hear, label=139\n",
      "    Frame count: 20 | First frame: ../data/frames/validation/hear/26952/frame_000.jpg\n",
      "Sample 15: class=cat, label=46\n",
      "    Frame count: 20 | First frame: ../data/frames/validation/cat/09525/frame_000.jpg\n",
      "Sample 16: class=cat, label=46\n",
      "    Frame count: 20 | First frame: ../data/frames/validation/cat/09532/frame_000.jpg\n",
      "Sample 17: class=paper, label=202\n",
      "    Frame count: 20 | First frame: ../data/frames/validation/paper/41034/frame_000.jpg\n",
      "Sample 18: class=paper, label=202\n",
      "    Frame count: 20 | First frame: ../data/frames/validation/paper/41027/frame_000.jpg\n",
      "Sample 19: class=man, label=176\n",
      "    Frame count: 20 | First frame: ../data/frames/validation/man/69395/frame_000.jpg\n"
     ]
    }
   ],
   "source": [
    "val_root = \"../data/frames/validation\" \n",
    "class_names = sorted(os.listdir(val_root))\n",
    "label_map = {name: idx for idx, name in enumerate(class_names)}\n",
    "inv_label_map = {v: k for k, v in label_map.items()}\n",
    "\n",
    "# 注意：验证时不做随机增强\n",
    "import albumentations as A\n",
    "from albumentations.pytorch import ToTensorV2\n",
    "\n",
    "val_transform = A.Compose([\n",
    "    A.Resize(224, 224),\n",
    "    A.Normalize(mean=(0.5, 0.5, 0.5), std=(0.5, 0.5, 0.5)),\n",
    "    ToTensorV2()\n",
    "])\n",
    "\n",
    "val_dataset = SignLanguageDataset(\n",
    "    root_dir=val_root,\n",
    "    label_map=label_map,\n",
    "    num_frames=num_frames,\n",
    "    split=\"validation\",\n",
    "    transform=val_transform\n",
    ")\n",
    "\n",
    "val_loader = DataLoader(val_dataset, batch_size=batch_size, shuffle=False, num_workers=2)"
   ]
  },
  {
   "cell_type": "code",
   "execution_count": 29,
   "metadata": {},
   "outputs": [
    {
     "ename": "RuntimeError",
     "evalue": "Error(s) in loading state_dict for FullSLRModel:\n\tsize mismatch for temporal_model.classifier.weight: copying a param with shape torch.Size([301, 512]) from checkpoint, the shape in current model is torch.Size([292, 512]).\n\tsize mismatch for temporal_model.classifier.bias: copying a param with shape torch.Size([301]) from checkpoint, the shape in current model is torch.Size([292]).",
     "output_type": "error",
     "traceback": [
      "\u001b[0;31m---------------------------------------------------------------------------\u001b[0m",
      "\u001b[0;31mRuntimeError\u001b[0m                              Traceback (most recent call last)",
      "Cell \u001b[0;32mIn[29], line 13\u001b[0m\n\u001b[1;32m     10\u001b[0m         \u001b[38;5;28;01mreturn\u001b[39;00m logits\n\u001b[1;32m     12\u001b[0m model \u001b[38;5;241m=\u001b[39m FullSLRModel(num_classes\u001b[38;5;241m=\u001b[39m\u001b[38;5;28mlen\u001b[39m(label_map))\u001b[38;5;241m.\u001b[39mto(device)\n\u001b[0;32m---> 13\u001b[0m \u001b[43mmodel\u001b[49m\u001b[38;5;241;43m.\u001b[39;49m\u001b[43mload_state_dict\u001b[49m\u001b[43m(\u001b[49m\u001b[43mtorch\u001b[49m\u001b[38;5;241;43m.\u001b[39;49m\u001b[43mload\u001b[49m\u001b[43m(\u001b[49m\u001b[43mmodel_path\u001b[49m\u001b[43m,\u001b[49m\u001b[43m \u001b[49m\u001b[43mmap_location\u001b[49m\u001b[38;5;241;43m=\u001b[39;49m\u001b[43mdevice\u001b[49m\u001b[43m)\u001b[49m\u001b[43m)\u001b[49m\n\u001b[1;32m     14\u001b[0m model\u001b[38;5;241m.\u001b[39meval()\n",
      "File \u001b[0;32m/opt/anaconda3/envs/slr-env/lib/python3.9/site-packages/torch/nn/modules/module.py:2153\u001b[0m, in \u001b[0;36mModule.load_state_dict\u001b[0;34m(self, state_dict, strict, assign)\u001b[0m\n\u001b[1;32m   2148\u001b[0m         error_msgs\u001b[38;5;241m.\u001b[39minsert(\n\u001b[1;32m   2149\u001b[0m             \u001b[38;5;241m0\u001b[39m, \u001b[38;5;124m'\u001b[39m\u001b[38;5;124mMissing key(s) in state_dict: \u001b[39m\u001b[38;5;132;01m{}\u001b[39;00m\u001b[38;5;124m. \u001b[39m\u001b[38;5;124m'\u001b[39m\u001b[38;5;241m.\u001b[39mformat(\n\u001b[1;32m   2150\u001b[0m                 \u001b[38;5;124m'\u001b[39m\u001b[38;5;124m, \u001b[39m\u001b[38;5;124m'\u001b[39m\u001b[38;5;241m.\u001b[39mjoin(\u001b[38;5;124mf\u001b[39m\u001b[38;5;124m'\u001b[39m\u001b[38;5;124m\"\u001b[39m\u001b[38;5;132;01m{\u001b[39;00mk\u001b[38;5;132;01m}\u001b[39;00m\u001b[38;5;124m\"\u001b[39m\u001b[38;5;124m'\u001b[39m \u001b[38;5;28;01mfor\u001b[39;00m k \u001b[38;5;129;01min\u001b[39;00m missing_keys)))\n\u001b[1;32m   2152\u001b[0m \u001b[38;5;28;01mif\u001b[39;00m \u001b[38;5;28mlen\u001b[39m(error_msgs) \u001b[38;5;241m>\u001b[39m \u001b[38;5;241m0\u001b[39m:\n\u001b[0;32m-> 2153\u001b[0m     \u001b[38;5;28;01mraise\u001b[39;00m \u001b[38;5;167;01mRuntimeError\u001b[39;00m(\u001b[38;5;124m'\u001b[39m\u001b[38;5;124mError(s) in loading state_dict for \u001b[39m\u001b[38;5;132;01m{}\u001b[39;00m\u001b[38;5;124m:\u001b[39m\u001b[38;5;130;01m\\n\u001b[39;00m\u001b[38;5;130;01m\\t\u001b[39;00m\u001b[38;5;132;01m{}\u001b[39;00m\u001b[38;5;124m'\u001b[39m\u001b[38;5;241m.\u001b[39mformat(\n\u001b[1;32m   2154\u001b[0m                        \u001b[38;5;28mself\u001b[39m\u001b[38;5;241m.\u001b[39m\u001b[38;5;18m__class__\u001b[39m\u001b[38;5;241m.\u001b[39m\u001b[38;5;18m__name__\u001b[39m, \u001b[38;5;124m\"\u001b[39m\u001b[38;5;130;01m\\n\u001b[39;00m\u001b[38;5;130;01m\\t\u001b[39;00m\u001b[38;5;124m\"\u001b[39m\u001b[38;5;241m.\u001b[39mjoin(error_msgs)))\n\u001b[1;32m   2155\u001b[0m \u001b[38;5;28;01mreturn\u001b[39;00m _IncompatibleKeys(missing_keys, unexpected_keys)\n",
      "\u001b[0;31mRuntimeError\u001b[0m: Error(s) in loading state_dict for FullSLRModel:\n\tsize mismatch for temporal_model.classifier.weight: copying a param with shape torch.Size([301, 512]) from checkpoint, the shape in current model is torch.Size([292, 512]).\n\tsize mismatch for temporal_model.classifier.bias: copying a param with shape torch.Size([301]) from checkpoint, the shape in current model is torch.Size([292])."
     ]
    }
   ],
   "source": [
    "class FullSLRModel(nn.Module):\n",
    "    def __init__(self, num_classes):\n",
    "        super().__init__()\n",
    "        self.feature_extractor = MobileNetV3Extractor()\n",
    "        self.temporal_model = BiLSTMWithAttention(input_dim=960, hidden_dim=256, num_classes=num_classes)\n",
    "\n",
    "    def forward(self, x):  # x: [B, T, C, H, W]\n",
    "        features = self.feature_extractor(x)\n",
    "        logits, _ = self.temporal_model(features)\n",
    "        return logits\n",
    "\n",
    "model = FullSLRModel(num_classes=len(label_map)).to(device)\n",
    "model.load_state_dict(torch.load(model_path, map_location=device))\n",
    "model.eval()"
   ]
  },
  {
   "cell_type": "code",
   "execution_count": null,
   "metadata": {},
   "outputs": [],
   "source": [
    "print(classification_report(all_labels, all_preds, target_names=class_names))"
   ]
  },
  {
   "cell_type": "code",
   "execution_count": null,
   "metadata": {},
   "outputs": [],
   "source": [
    "cm = confusion_matrix(all_labels, all_preds)\n",
    "disp = ConfusionMatrixDisplay(confusion_matrix=cm, display_labels=class_names)\n",
    "fig, ax = plt.subplots(figsize=(12, 12))\n",
    "disp.plot(xticks_rotation=90, ax=ax)\n",
    "plt.title(\"Confusion Matrix\")\n",
    "plt.show()"
   ]
  }
 ],
 "metadata": {
  "kernelspec": {
   "display_name": "slr-env",
   "language": "python",
   "name": "python3"
  },
  "language_info": {
   "codemirror_mode": {
    "name": "ipython",
    "version": 3
   },
   "file_extension": ".py",
   "mimetype": "text/x-python",
   "name": "python",
   "nbconvert_exporter": "python",
   "pygments_lexer": "ipython3",
   "version": "3.9.23"
  }
 },
 "nbformat": 4,
 "nbformat_minor": 2
}
