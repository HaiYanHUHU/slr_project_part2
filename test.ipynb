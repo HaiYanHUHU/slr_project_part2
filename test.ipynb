{
 "cells": [
  {
   "cell_type": "code",
   "execution_count": 3,
   "metadata": {},
   "outputs": [
    {
     "name": "stdout",
     "output_type": "stream",
     "text": [
      "Environmental detection successful.\n",
      "Torch: 2.2.2\n",
      "OpenCV: 4.11.0\n"
     ]
    }
   ],
   "source": [
    "import torch, cv2, albumentations, sklearn\n",
    "import matplotlib.pyplot as plt\n",
    "\n",
    "print(\"Environmental detection successful.\")\n",
    "print(\"Torch:\", torch.__version__)\n",
    "print(\"OpenCV:\", cv2.__version__)"
   ]
  },
  {
   "cell_type": "code",
   "execution_count": null,
   "metadata": {},
   "outputs": [],
   "source": []
  }
 ],
 "metadata": {
  "kernelspec": {
   "display_name": "slr-env",
   "language": "python",
   "name": "python3"
  },
  "language_info": {
   "codemirror_mode": {
    "name": "ipython",
    "version": 3
   },
   "file_extension": ".py",
   "mimetype": "text/x-python",
   "name": "python",
   "nbconvert_exporter": "python",
   "pygments_lexer": "ipython3",
   "version": "3.9.23"
  }
 },
 "nbformat": 4,
 "nbformat_minor": 2
}
